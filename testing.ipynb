{
 "cells": [
  {
   "cell_type": "code",
   "execution_count": 1,
   "metadata": {},
   "outputs": [],
   "source": [
    "import numpy as np\n",
    "import pandas as pd\n",
    "import matplotlib.pyplot as plt"
   ]
  },
  {
   "cell_type": "code",
   "execution_count": 6,
   "metadata": {},
   "outputs": [],
   "source": [
    "data_test = pd.read_csv(\"data/dataset_test.csv\")\n",
    "data_train = pd.read_csv(\"data/dataset_train.csv\")"
   ]
  },
  {
   "cell_type": "code",
   "execution_count": 7,
   "metadata": {},
   "outputs": [],
   "source": [
    "from LogisticRegression import LogisticRegression as Logreg"
   ]
  },
  {
   "cell_type": "code",
   "execution_count": null,
   "metadata": {},
   "outputs": [],
   "source": [
    "labels = {\n",
    "\t0:\"Ravenclaw\",\n",
    "\t1:\"Slytherin\",\n",
    "\t2:\"Gryffindor\",\n",
    "\t3:\"Hufflepuff\"\n",
    "}\n",
    "\n",
    "def label_encode(y):\n",
    "\ty[:] = list(map(dict(zip(labels.values(), labels)).get, y[:]))\n",
    "\treturn y\n",
    "\n"
   ]
  }
 ],
 "metadata": {
  "kernelspec": {
   "display_name": "Python 3.9.12 ('base')",
   "language": "python",
   "name": "python3"
  },
  "language_info": {
   "codemirror_mode": {
    "name": "ipython",
    "version": 3
   },
   "file_extension": ".py",
   "mimetype": "text/x-python",
   "name": "python",
   "nbconvert_exporter": "python",
   "pygments_lexer": "ipython3",
   "version": "3.9.12"
  },
  "orig_nbformat": 4,
  "vscode": {
   "interpreter": {
    "hash": "8d74c0fafef062b8c40a38307121a97037b051540493aa679a835c317fbd9daf"
   }
  }
 },
 "nbformat": 4,
 "nbformat_minor": 2
}
