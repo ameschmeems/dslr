{
 "cells": [
  {
   "cell_type": "code",
   "execution_count": 1,
   "metadata": {},
   "outputs": [],
   "source": [
    "import numpy as np\n",
    "import pandas as pd\n",
    "import matplotlib.pyplot as plt"
   ]
  },
  {
   "cell_type": "code",
   "execution_count": 2,
   "metadata": {},
   "outputs": [],
   "source": [
    "from LogisticRegression import LogisticRegression as Logreg"
   ]
  },
  {
   "cell_type": "code",
   "execution_count": 3,
   "metadata": {},
   "outputs": [],
   "source": [
    "from sklearn.preprocessing import StandardScaler\n",
    "from sklearn.model_selection import train_test_split"
   ]
  },
  {
   "cell_type": "code",
   "execution_count": 4,
   "metadata": {},
   "outputs": [],
   "source": [
    "df = pd.read_csv(\"data/dataset_train.csv\")\n",
    "df = df.dropna(subset=['Defense Against the Dark Arts'])\n",
    "df = df.dropna(subset=['Charms'])\n",
    "df = df.dropna(subset=['Herbology'])\n",
    "df = df.dropna(subset=['Divination'])\n",
    "df = df.dropna(subset=['Muggle Studies'])\n",
    "X = np.array(df.values[:, [9, 17, 8, 10, 11]], dtype=float)\n",
    "y = df.values[:, 1]\n",
    "X_train, X_test, y_train, y_test = train_test_split(X, y, test_size=0.3, random_state=4)\n",
    "\n",
    "sc = StandardScaler()\n",
    "sc.fit(X_train)\n",
    "\n",
    "X_train_std = sc.transform(X_train)\n",
    "X_test_std = sc.transform(X_test)\n",
    "\n",
    "model = Logreg().fit(X_train_std, y_train)\n"
   ]
  },
  {
   "cell_type": "code",
   "execution_count": 6,
   "metadata": {},
   "outputs": [
    {
     "name": "stdout",
     "output_type": "stream",
     "text": [
      "1439\n",
      "(1467,)\n",
      "['Ravenclaw', 'Slytherin', 'Ravenclaw', 'Gryffindor', 'Slytherin', 'Hufflepuff', 'Gryffindor', 'Hufflepuff', 'Hufflepuff', 'Hufflepuff']\n"
     ]
    }
   ],
   "source": [
    "testing = y == model.predict(sc.transform(X))\n",
    "print(np.sum(testing))\n",
    "print(testing.shape)\n",
    "print(model.predict(sc.transform(X))[:10])"
   ]
  }
 ],
 "metadata": {
  "kernelspec": {
   "display_name": "Python 3.11.0 64-bit",
   "language": "python",
   "name": "python3"
  },
  "language_info": {
   "codemirror_mode": {
    "name": "ipython",
    "version": 3
   },
   "file_extension": ".py",
   "mimetype": "text/x-python",
   "name": "python",
   "nbconvert_exporter": "python",
   "pygments_lexer": "ipython3",
   "version": "3.11.0"
  },
  "orig_nbformat": 4,
  "vscode": {
   "interpreter": {
    "hash": "d395e14b840246f2dd919798eb011e54b77e9a65590f77ec675d1f9346b04099"
   }
  }
 },
 "nbformat": 4,
 "nbformat_minor": 2
}
