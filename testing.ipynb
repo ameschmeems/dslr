{
 "cells": [
  {
   "cell_type": "code",
   "execution_count": 1,
   "metadata": {},
   "outputs": [],
   "source": [
    "import numpy as np\n",
    "import pandas as pd\n",
    "import matplotlib.pyplot as plt"
   ]
  },
  {
   "cell_type": "code",
   "execution_count": 2,
   "metadata": {},
   "outputs": [],
   "source": [
    "from LogisticRegression import LogisticRegression as Logreg"
   ]
  },
  {
   "cell_type": "code",
   "execution_count": 3,
   "metadata": {},
   "outputs": [],
   "source": [
    "from sklearn.preprocessing import StandardScaler\n",
    "from sklearn.model_selection import train_test_split"
   ]
  },
  {
   "cell_type": "code",
   "execution_count": 4,
   "metadata": {},
   "outputs": [],
   "source": [
    "df = pd.read_csv(\"data/dataset_train.csv\")\n",
    "df = df.dropna(subset=['Defense Against the Dark Arts'])\n",
    "df = df.dropna(subset=['Charms'])\n",
    "df = df.dropna(subset=['Herbology'])\n",
    "df = df.dropna(subset=['Divination'])\n",
    "df = df.dropna(subset=['Muggle Studies'])\n",
    "X = np.array(df.values[:, [9, 17, 8, 10, 11]], dtype=float)\n",
    "y = df.values[:, 1]\n",
    "X_train, X_test, y_train, y_test = train_test_split(X, y, test_size=0.3, random_state=4)\n",
    "\n",
    "sc = StandardScaler()\n",
    "sc.fit(X_train)\n",
    "\n",
    "X_train_std = sc.transform(X_train)\n",
    "X_test_std = sc.transform(X_test)\n",
    "\n",
    "model = Logreg(lrate=0.01, epochs=50).fit(X_train_std, y_train)\n"
   ]
  },
  {
   "cell_type": "code",
   "execution_count": 5,
   "metadata": {},
   "outputs": [
    {
     "name": "stdout",
     "output_type": "stream",
     "text": [
      "435\n",
      "(441,)\n",
      "0.9863945578231292\n"
     ]
    }
   ],
   "source": [
    "testing = y_test == model.predict(X_test_std)\n",
    "print(np.sum(testing))\n",
    "print(testing.shape)\n",
    "print(np.sum(testing) / len(testing))"
   ]
  },
  {
   "cell_type": "code",
   "execution_count": 8,
   "metadata": {},
   "outputs": [
    {
     "name": "stdout",
     "output_type": "stream",
     "text": [
      "            0\n",
      "0  Hufflepuff\n",
      "1   Ravenclaw\n",
      "2  Gryffindor\n",
      "3  Hufflepuff\n",
      "4  Hufflepuff\n"
     ]
    }
   ],
   "source": [
    "test_data = pd.read_csv(\"data/dataset_test.csv\")\n",
    "test_data = test_data.fillna(method=\"ffill\")\n",
    "X = np.array(test_data.values[:, [9, 17, 8, 10, 11]], dtype=float)\n",
    "X_std = sc.transform(X)\n",
    "results = pd.DataFrame(model.predict(X_std))\n",
    "print(results.head())\n",
    "results.to_csv(\"eval/houses.csv\")"
   ]
  },
  {
   "cell_type": "code",
   "execution_count": null,
   "metadata": {},
   "outputs": [],
   "source": [
    "import pickle\n",
    "\n",
    "def save_data(sc, model, path):\n",
    "    data = {\n",
    "        \"StandardScaler\":sc,\n",
    "        \"LogisticRegression\":model\n",
    "    }\n",
    "    with open(path, \"wb\") as f:\n",
    "        pickle.dump(data, f)\n",
    "\n",
    "def load_data(path):\n",
    "    with open(path, \"rb\") as f:\n",
    "        return pickle.load(f)"
   ]
  }
 ],
 "metadata": {
  "kernelspec": {
   "display_name": "Python 3.10.8 ('venv': venv)",
   "language": "python",
   "name": "python3"
  },
  "language_info": {
   "codemirror_mode": {
    "name": "ipython",
    "version": 3
   },
   "file_extension": ".py",
   "mimetype": "text/x-python",
   "name": "python",
   "nbconvert_exporter": "python",
   "pygments_lexer": "ipython3",
   "version": "3.10.8"
  },
  "orig_nbformat": 4,
  "vscode": {
   "interpreter": {
    "hash": "8644eaaa33a87c0855da1f02e2d82ea3e64efa6e5fdfaca93fb8b7a843e8433e"
   }
  }
 },
 "nbformat": 4,
 "nbformat_minor": 2
}
